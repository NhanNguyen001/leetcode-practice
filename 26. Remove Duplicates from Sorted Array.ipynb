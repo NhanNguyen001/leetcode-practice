{
 "cells": [
  {
   "cell_type": "code",
   "execution_count": 2,
   "metadata": {},
   "outputs": [],
   "source": [
    "from typing import List"
   ]
  },
  {
   "cell_type": "code",
   "execution_count": 3,
   "metadata": {},
   "outputs": [],
   "source": [
    "class Solution:\n",
    "    def removeDuplicates(self, nums: List[int]) -> int:\n",
    "        j = 1\n",
    "        for i in range(1, len(nums)):\n",
    "            if nums[i] != nums[i - 1]:\n",
    "                nums[j] = nums[i]\n",
    "                j += 1\n",
    "        return j"
   ]
  },
  {
   "cell_type": "code",
   "execution_count": 4,
   "metadata": {},
   "outputs": [
    {
     "name": "stdout",
     "output_type": "stream",
     "text": [
      "k = 2\n",
      "Unique elements = [1, 2]\n"
     ]
    }
   ],
   "source": [
    "nums = [1, 1, 2]\n",
    "    \n",
    "sol = Solution()\n",
    "k = sol.removeDuplicates(nums)\n",
    "\n",
    "# Print out the number of unique elements\n",
    "print(\"k =\", k)\n",
    "# Print out the unique portion of the array\n",
    "print(\"Unique elements =\", nums[:k])"
   ]
  },
  {
   "cell_type": "markdown",
   "metadata": {},
   "source": [
    "Here's a brief breakdown of time and space complexity for the removeDuplicates solution:\n",
    "\n",
    "Time Complexity: O(n)\n",
    "\n",
    "We traverse' the array from left to right exactly once.\n",
    "The loop runs n - 1 times (where n is len(nums)).\n",
    "Each iteration does a constant amount of work (a comparison and possibly one assignment).\n",
    "Hence, overall complexity is linear in the size of the array.\n",
    "Space Complexity: O(1)\n",
    "\n",
    "The solution is done in-place, meaning we only store two pointer/index variables (i and j).\n",
    "No additional data structures grow proportionally with n.\n",
    "Therefore, the extra space usage remains constant."
   ]
  }
 ],
 "metadata": {
  "kernelspec": {
   "display_name": "Python 3",
   "language": "python",
   "name": "python3"
  },
  "language_info": {
   "codemirror_mode": {
    "name": "ipython",
    "version": 3
   },
   "file_extension": ".py",
   "mimetype": "text/x-python",
   "name": "python",
   "nbconvert_exporter": "python",
   "pygments_lexer": "ipython3",
   "version": "3.12.7"
  }
 },
 "nbformat": 4,
 "nbformat_minor": 2
}
