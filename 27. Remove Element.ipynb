{
 "cells": [
  {
   "cell_type": "code",
   "execution_count": 1,
   "metadata": {},
   "outputs": [],
   "source": [
    "class Solution:\n",
    "    def removeElement(self, nums: list[int], val: int) -> int:\n",
    "        pos = 0  # slow pointer that tracks the position for the next non-val element\n",
    "        for i in range(len(nums)):  # i is the fast pointer that goes through each element\n",
    "            if nums[i] != val:\n",
    "                nums[pos] = nums[i]\n",
    "                pos += 1\n",
    "        return pos"
   ]
  },
  {
   "cell_type": "code",
   "execution_count": 2,
   "metadata": {},
   "outputs": [
    {
     "name": "stdout",
     "output_type": "stream",
     "text": [
      "Test Case 1:\n",
      "Result: k = 2, nums = [2, 2, 2, 3]\n",
      "Expected: k = 2, nums = [2,2,_,_]\n",
      "\n",
      "Test Case 2:\n",
      "Result: k = 5, nums = [0, 1, 3, 0, 4, 0, 4, 2]\n",
      "Expected: k = 5, nums = [0,1,4,0,3,_,_,_]\n",
      "\n"
     ]
    }
   ],
   "source": [
    "# Create Solution instance\n",
    "solution = Solution()\n",
    "\n",
    "# Test Case 1\n",
    "nums1 = [3,2,2,3]\n",
    "val1 = 3\n",
    "k1 = solution.removeElement(nums1, val1)\n",
    "print(\"Test Case 1:\")\n",
    "print(f\"Result: k = {k1}, nums = {nums1}\")\n",
    "print(f\"Expected: k = 2, nums = [2,2,_,_]\\n\")\n",
    "\n",
    "# Test Case 2\n",
    "nums2 = [0,1,2,2,3,0,4,2]\n",
    "val2 = 2\n",
    "k2 = solution.removeElement(nums2, val2)\n",
    "print(\"Test Case 2:\")\n",
    "print(f\"Result: k = {k2}, nums = {nums2}\")\n",
    "print(f\"Expected: k = 5, nums = [0,1,4,0,3,_,_,_]\\n\")"
   ]
  },
  {
   "cell_type": "code",
   "execution_count": null,
   "metadata": {},
   "outputs": [],
   "source": []
  },
  {
   "cell_type": "code",
   "execution_count": null,
   "metadata": {},
   "outputs": [],
   "source": []
  },
  {
   "cell_type": "markdown",
   "metadata": {},
   "source": [
    "Answer:\n",
    "Time Complexity: O(n)\n",
    "\n",
    "We are iterating over the entire array nums exactly once, performing a constant amount of work (comparison and possibly assignment) per element. Hence, the time complexity grows linearly with the size of the input array.\n",
    "Space Complexity: O(1)\n",
    "\n",
    "The solution modifies nums in-place and uses only a few additional variables (pos, loop index variables). There are no data structures that grow with the input size, so the extra space usage is constant."
   ]
  }
 ],
 "metadata": {
  "kernelspec": {
   "display_name": "Python 3",
   "language": "python",
   "name": "python3"
  },
  "language_info": {
   "codemirror_mode": {
    "name": "ipython",
    "version": 3
   },
   "file_extension": ".py",
   "mimetype": "text/x-python",
   "name": "python",
   "nbconvert_exporter": "python",
   "pygments_lexer": "ipython3",
   "version": "3.12.7"
  }
 },
 "nbformat": 4,
 "nbformat_minor": 2
}
