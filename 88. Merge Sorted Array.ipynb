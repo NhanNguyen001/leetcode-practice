{
 "cells": [
  {
   "cell_type": "code",
   "execution_count": 3,
   "metadata": {},
   "outputs": [],
   "source": [
    "class Solution:\n",
    "    def merge(self, nums1: list[int], m: int, nums2: list[int], n: int) -> None:\n",
    "        # Pointers for the last elements in the \"effective\" portions of nums1 and nums2\n",
    "        p1 = m - 1\n",
    "        p2 = n - 1\n",
    "        \n",
    "        # Pointer for the last position in nums1 where we will place the merged element\n",
    "        p_merge = m + n - 1\n",
    "        \n",
    "        # While there are still elements in both arrays\n",
    "        while p1 >= 0 and p2 >= 0:\n",
    "            # Compare the elements at p1 and p2 and place the larger one at p_merge\n",
    "            if nums1[p1] > nums2[p2]:\n",
    "                nums1[p_merge] = nums1[p1]\n",
    "                p1 -= 1\n",
    "            else:\n",
    "                nums1[p_merge] = nums2[p2]\n",
    "                p2 -= 1\n",
    "            p_merge -= 1\n",
    "        \n",
    "        # If there are still elements in nums2 that haven't been placed, copy them\n",
    "        # (If p1 >= 0 still has elements, they are already in place)\n",
    "        while p2 >= 0:\n",
    "            nums1[p_merge] = nums2[p2]\n",
    "            p2 -= 1\n",
    "            p_merge -= 1"
   ]
  },
  {
   "cell_type": "code",
   "execution_count": 4,
   "metadata": {},
   "outputs": [
    {
     "name": "stdout",
     "output_type": "stream",
     "text": [
      "Test Case 1:\n",
      "Result: [1, 2, 2, 3, 5, 6]\n",
      "Expected: [1,2,2,3,5,6]\n",
      "\n",
      "Test Case 2:\n",
      "Result: [1]\n",
      "Expected: [1]\n",
      "\n",
      "Test Case 3:\n",
      "Result: [1]\n",
      "Expected: [1]\n"
     ]
    }
   ],
   "source": [
    "# Create Solution instance\n",
    "solution = Solution()\n",
    "\n",
    "# Test Case 1\n",
    "nums1_1 = [1,2,3,0,0,0]\n",
    "m_1 = 3\n",
    "nums2_1 = [2,5,6]\n",
    "n_1 = 3\n",
    "solution.merge(nums1_1, m_1, nums2_1, n_1)\n",
    "print(\"Test Case 1:\")\n",
    "print(f\"Result: {nums1_1}\")\n",
    "print(f\"Expected: [1,2,2,3,5,6]\\n\")\n",
    "\n",
    "# Test Case 2\n",
    "nums1_2 = [1]\n",
    "m_2 = 1\n",
    "nums2_2 = []\n",
    "n_2 = 0\n",
    "solution.merge(nums1_2, m_2, nums2_2, n_2)\n",
    "print(\"Test Case 2:\")\n",
    "print(f\"Result: {nums1_2}\")\n",
    "print(f\"Expected: [1]\\n\")\n",
    "\n",
    "# Test Case 3\n",
    "nums1_3 = [0]\n",
    "m_3 = 0\n",
    "nums2_3 = [1]\n",
    "n_3 = 1\n",
    "solution.merge(nums1_3, m_3, nums2_3, n_3)\n",
    "print(\"Test Case 3:\")\n",
    "print(f\"Result: {nums1_3}\")\n",
    "print(f\"Expected: [1]\")"
   ]
  },
  {
   "cell_type": "markdown",
   "metadata": {},
   "source": [
    "### Complexity Analysis\n",
    "\n",
    "#### Time Complexity\n",
    "- The merging process iterates over each element from both arrays at most once\n",
    "- Therefore, the time complexity is **O(m + n)**\n",
    "  - where *m* is the number of elements initially in nums1\n",
    "  - and *n* is the number of elements in nums2\n",
    "\n",
    "#### Space Complexity\n",
    "- The merging occurs in-place within the nums1 array\n",
    "- Only uses a few extra variables for pointers\n",
    "- No additional data structures proportional to the input size are required\n",
    "- Therefore, the space complexity is **O(1)**"
   ]
  },
  {
   "cell_type": "code",
   "execution_count": null,
   "metadata": {},
   "outputs": [],
   "source": []
  }
 ],
 "metadata": {
  "kernelspec": {
   "display_name": "Python 3",
   "language": "python",
   "name": "python3"
  },
  "language_info": {
   "codemirror_mode": {
    "name": "ipython",
    "version": 3
   },
   "file_extension": ".py",
   "mimetype": "text/x-python",
   "name": "python",
   "nbconvert_exporter": "python",
   "pygments_lexer": "ipython3",
   "version": "3.12.7"
  }
 },
 "nbformat": 4,
 "nbformat_minor": 2
}
